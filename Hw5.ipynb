{
 "cells": [
  {
   "cell_type": "code",
   "execution_count": 1,
   "metadata": {
    "collapsed": true
   },
   "outputs": [],
   "source": [
    "#import library\n",
    "\n",
    "import matplotlib.image as mpimg\n",
    "import matplotlib.pyplot as plt\n",
    "%matplotlib inline\n",
    "import numpy as np\n",
    "import pandas as pd"
   ]
  },
  {
   "cell_type": "code",
   "execution_count": 61,
   "metadata": {
    "collapsed": true
   },
   "outputs": [],
   "source": [
    "#importing spliting method\n",
    "from sklearn.model_selection import train_test_split\n",
    "\n",
    "#importing acccuracy_score to check accuracy\n",
    "from sklearn.metrics import accuracy_score\n",
    "\n",
    "from sklearn.ensemble import RandomForestClassifier"
   ]
  },
  {
   "cell_type": "code",
   "execution_count": null,
   "metadata": {
    "collapsed": true
   },
   "outputs": [],
   "source": [
    "#initial a dataframe"
   ]
  },
  {
   "cell_type": "code",
   "execution_count": 3,
   "metadata": {
    "collapsed": true
   },
   "outputs": [],
   "source": [
    "i=0"
   ]
  },
  {
   "cell_type": "code",
   "execution_count": 4,
   "metadata": {},
   "outputs": [],
   "source": [
    "a = mpimg.imread('D:/Mapp/Documents/Common files/academic/aCSULA/CS4661 Data science/HW5/HW5/Digit/'+str(i)+'.jpg')"
   ]
  },
  {
   "cell_type": "code",
   "execution_count": 20,
   "metadata": {},
   "outputs": [
    {
     "data": {
      "text/plain": [
       "array([[  0,   2,  88, 217, 158,  21,   0,   0],\n",
       "       [ 16,   0, 228, 236, 166, 253,  95,   0],\n",
       "       [  0,  41, 255,  44,  11, 182, 132,   3],\n",
       "       [ 11,  80, 220,   0,   2, 143, 133,   5],\n",
       "       [  6,  71, 122,   0,   5, 155, 140,   0],\n",
       "       [  0,  76, 194,   0,  26, 207, 105,  15],\n",
       "       [  0,  18, 255,  83, 146, 211,   4,   0],\n",
       "       [  4,   3,  87, 228, 182,   0,   9,   2]], dtype=uint8)"
      ]
     },
     "execution_count": 20,
     "metadata": {},
     "output_type": "execute_result"
    }
   ],
   "source": [
    "a"
   ]
  },
  {
   "cell_type": "code",
   "execution_count": 21,
   "metadata": {},
   "outputs": [],
   "source": [
    "col = np.append(a[0],a[1])"
   ]
  },
  {
   "cell_type": "code",
   "execution_count": 22,
   "metadata": {},
   "outputs": [],
   "source": [
    "for x in range (2,8):\n",
    "    col = np.append(col,a[x])"
   ]
  },
  {
   "cell_type": "code",
   "execution_count": 23,
   "metadata": {},
   "outputs": [
    {
     "data": {
      "text/plain": [
       "array([  0,   2,  88, 217, 158,  21,   0,   0,  16,   0, 228, 236, 166,\n",
       "       253,  95,   0,   0,  41, 255,  44,  11, 182, 132,   3,  11,  80,\n",
       "       220,   0,   2, 143, 133,   5,   6,  71, 122,   0,   5, 155, 140,\n",
       "         0,   0,  76, 194,   0,  26, 207, 105,  15,   0,  18, 255,  83,\n",
       "       146, 211,   4,   0,   4,   3,  87, 228, 182,   0,   9,   2], dtype=uint8)"
      ]
     },
     "execution_count": 23,
     "metadata": {},
     "output_type": "execute_result"
    }
   ],
   "source": [
    "#this is one column\n",
    "\n",
    "col"
   ]
  },
  {
   "cell_type": "code",
   "execution_count": 55,
   "metadata": {},
   "outputs": [],
   "source": [
    "#initialize a one-column dataFrame\n",
    "\n",
    "data={'0':col}\n",
    "images_df = pd.DataFrame(data=data, columns=['0'])"
   ]
  },
  {
   "cell_type": "code",
   "execution_count": 56,
   "metadata": {},
   "outputs": [
    {
     "data": {
      "text/plain": [
       "64"
      ]
     },
     "execution_count": 56,
     "metadata": {},
     "output_type": "execute_result"
    }
   ],
   "source": [
    "images_df.size"
   ]
  },
  {
   "cell_type": "code",
   "execution_count": 57,
   "metadata": {
    "scrolled": true
   },
   "outputs": [
    {
     "data": {
      "text/html": [
       "<div>\n",
       "<style>\n",
       "    .dataframe thead tr:only-child th {\n",
       "        text-align: right;\n",
       "    }\n",
       "\n",
       "    .dataframe thead th {\n",
       "        text-align: left;\n",
       "    }\n",
       "\n",
       "    .dataframe tbody tr th {\n",
       "        vertical-align: top;\n",
       "    }\n",
       "</style>\n",
       "<table border=\"1\" class=\"dataframe\">\n",
       "  <thead>\n",
       "    <tr style=\"text-align: right;\">\n",
       "      <th></th>\n",
       "      <th>0</th>\n",
       "      <th>1</th>\n",
       "      <th>2</th>\n",
       "      <th>3</th>\n",
       "      <th>4</th>\n",
       "      <th>5</th>\n",
       "      <th>6</th>\n",
       "      <th>7</th>\n",
       "      <th>8</th>\n",
       "      <th>9</th>\n",
       "      <th>...</th>\n",
       "      <th>1787</th>\n",
       "      <th>1788</th>\n",
       "      <th>1789</th>\n",
       "      <th>1790</th>\n",
       "      <th>1791</th>\n",
       "      <th>1792</th>\n",
       "      <th>1793</th>\n",
       "      <th>1794</th>\n",
       "      <th>1795</th>\n",
       "      <th>1796</th>\n",
       "    </tr>\n",
       "  </thead>\n",
       "  <tbody>\n",
       "    <tr>\n",
       "      <th>0</th>\n",
       "      <td>0</td>\n",
       "      <td>0</td>\n",
       "      <td>0</td>\n",
       "      <td>6</td>\n",
       "      <td>0</td>\n",
       "      <td>15</td>\n",
       "      <td>0</td>\n",
       "      <td>10</td>\n",
       "      <td>0</td>\n",
       "      <td>0</td>\n",
       "      <td>...</td>\n",
       "      <td>3</td>\n",
       "      <td>0</td>\n",
       "      <td>3</td>\n",
       "      <td>0</td>\n",
       "      <td>3</td>\n",
       "      <td>5</td>\n",
       "      <td>6</td>\n",
       "      <td>5</td>\n",
       "      <td>7</td>\n",
       "      <td>0</td>\n",
       "    </tr>\n",
       "    <tr>\n",
       "      <th>1</th>\n",
       "      <td>17</td>\n",
       "      <td>0</td>\n",
       "      <td>0</td>\n",
       "      <td>0</td>\n",
       "      <td>6</td>\n",
       "      <td>0</td>\n",
       "      <td>13</td>\n",
       "      <td>0</td>\n",
       "      <td>7</td>\n",
       "      <td>0</td>\n",
       "      <td>...</td>\n",
       "      <td>0</td>\n",
       "      <td>0</td>\n",
       "      <td>6</td>\n",
       "      <td>12</td>\n",
       "      <td>4</td>\n",
       "      <td>0</td>\n",
       "      <td>0</td>\n",
       "      <td>0</td>\n",
       "      <td>0</td>\n",
       "      <td>17</td>\n",
       "    </tr>\n",
       "    <tr>\n",
       "      <th>2</th>\n",
       "      <td>155</td>\n",
       "      <td>11</td>\n",
       "      <td>5</td>\n",
       "      <td>108</td>\n",
       "      <td>0</td>\n",
       "      <td>200</td>\n",
       "      <td>0</td>\n",
       "      <td>114</td>\n",
       "      <td>145</td>\n",
       "      <td>174</td>\n",
       "      <td>...</td>\n",
       "      <td>164</td>\n",
       "      <td>0</td>\n",
       "      <td>127</td>\n",
       "      <td>74</td>\n",
       "      <td>0</td>\n",
       "      <td>69</td>\n",
       "      <td>96</td>\n",
       "      <td>22</td>\n",
       "      <td>22</td>\n",
       "      <td>155</td>\n",
       "    </tr>\n",
       "    <tr>\n",
       "      <th>3</th>\n",
       "      <td>236</td>\n",
       "      <td>187</td>\n",
       "      <td>59</td>\n",
       "      <td>255</td>\n",
       "      <td>34</td>\n",
       "      <td>149</td>\n",
       "      <td>192</td>\n",
       "      <td>133</td>\n",
       "      <td>223</td>\n",
       "      <td>199</td>\n",
       "      <td>...</td>\n",
       "      <td>253</td>\n",
       "      <td>20</td>\n",
       "      <td>250</td>\n",
       "      <td>185</td>\n",
       "      <td>34</td>\n",
       "      <td>160</td>\n",
       "      <td>255</td>\n",
       "      <td>172</td>\n",
       "      <td>158</td>\n",
       "      <td>236</td>\n",
       "    </tr>\n",
       "    <tr>\n",
       "      <th>4</th>\n",
       "      <td>123</td>\n",
       "      <td>210</td>\n",
       "      <td>240</td>\n",
       "      <td>213</td>\n",
       "      <td>160</td>\n",
       "      <td>2</td>\n",
       "      <td>210</td>\n",
       "      <td>203</td>\n",
       "      <td>128</td>\n",
       "      <td>5</td>\n",
       "      <td>...</td>\n",
       "      <td>235</td>\n",
       "      <td>202</td>\n",
       "      <td>52</td>\n",
       "      <td>117</td>\n",
       "      <td>250</td>\n",
       "      <td>198</td>\n",
       "      <td>206</td>\n",
       "      <td>242</td>\n",
       "      <td>114</td>\n",
       "      <td>123</td>\n",
       "    </tr>\n",
       "  </tbody>\n",
       "</table>\n",
       "<p>5 rows × 1797 columns</p>\n",
       "</div>"
      ],
      "text/plain": [
       "     0    1    2    3    4    5    6    7    8    9  ...   1787  1788  1789  \\\n",
       "0    0    0    0    6    0   15    0   10    0    0  ...      3     0     3   \n",
       "1   17    0    0    0    6    0   13    0    7    0  ...      0     0     6   \n",
       "2  155   11    5  108    0  200    0  114  145  174  ...    164     0   127   \n",
       "3  236  187   59  255   34  149  192  133  223  199  ...    253    20   250   \n",
       "4  123  210  240  213  160    2  210  203  128    5  ...    235   202    52   \n",
       "\n",
       "   1790  1791  1792  1793  1794  1795  1796  \n",
       "0     0     3     5     6     5     7     0  \n",
       "1    12     4     0     0     0     0    17  \n",
       "2    74     0    69    96    22    22   155  \n",
       "3   185    34   160   255   172   158   236  \n",
       "4   117   250   198   206   242   114   123  \n",
       "\n",
       "[5 rows x 1797 columns]"
      ]
     },
     "execution_count": 57,
     "metadata": {},
     "output_type": "execute_result"
    }
   ],
   "source": [
    "#use a loop to include all images as different columns into above dataFrame\n",
    "\n",
    "for i in range(1,1797):\n",
    "    b = mpimg.imread('D:/Mapp/Documents/Common files/academic/aCSULA/CS4661 Data science/HW5/HW5/Digit/'+str(i)+'.jpg')\n",
    "    col = np.append(b[0],b[1])\n",
    "    for x in range (2,8):\n",
    "        col = np.append(col,b[x])\n",
    "    images_df[str(i)]=col\n",
    "    \n",
    "images_df.head()"
   ]
  },
  {
   "cell_type": "code",
   "execution_count": 69,
   "metadata": {},
   "outputs": [],
   "source": [
    "#make the feature matrix cooridnate with the dimensions of the label \n",
    "feature = images_df.T"
   ]
  },
  {
   "cell_type": "code",
   "execution_count": 58,
   "metadata": {
    "collapsed": true
   },
   "outputs": [],
   "source": [
    "# import the label\n",
    "\n",
    "digitLable = pd.read_csv('D:/Mapp/Documents/Common files/academic/aCSULA/CS4661 Data science/HW5/HW5/label.csv')"
   ]
  },
  {
   "cell_type": "code",
   "execution_count": 60,
   "metadata": {},
   "outputs": [
    {
     "data": {
      "text/html": [
       "<div>\n",
       "<style>\n",
       "    .dataframe thead tr:only-child th {\n",
       "        text-align: right;\n",
       "    }\n",
       "\n",
       "    .dataframe thead th {\n",
       "        text-align: left;\n",
       "    }\n",
       "\n",
       "    .dataframe tbody tr th {\n",
       "        vertical-align: top;\n",
       "    }\n",
       "</style>\n",
       "<table border=\"1\" class=\"dataframe\">\n",
       "  <thead>\n",
       "    <tr style=\"text-align: right;\">\n",
       "      <th></th>\n",
       "      <th>name of the file</th>\n",
       "      <th>digit</th>\n",
       "    </tr>\n",
       "  </thead>\n",
       "  <tbody>\n",
       "    <tr>\n",
       "      <th>0</th>\n",
       "      <td>0</td>\n",
       "      <td>0</td>\n",
       "    </tr>\n",
       "    <tr>\n",
       "      <th>1</th>\n",
       "      <td>1</td>\n",
       "      <td>1</td>\n",
       "    </tr>\n",
       "    <tr>\n",
       "      <th>2</th>\n",
       "      <td>2</td>\n",
       "      <td>2</td>\n",
       "    </tr>\n",
       "    <tr>\n",
       "      <th>3</th>\n",
       "      <td>3</td>\n",
       "      <td>3</td>\n",
       "    </tr>\n",
       "    <tr>\n",
       "      <th>4</th>\n",
       "      <td>4</td>\n",
       "      <td>4</td>\n",
       "    </tr>\n",
       "  </tbody>\n",
       "</table>\n",
       "</div>"
      ],
      "text/plain": [
       "   name of the file  digit\n",
       "0                 0      0\n",
       "1                 1      1\n",
       "2                 2      2\n",
       "3                 3      3\n",
       "4                 4      4"
      ]
     },
     "execution_count": 60,
     "metadata": {},
     "output_type": "execute_result"
    }
   ],
   "source": [
    "digitLable.head()"
   ]
  },
  {
   "cell_type": "code",
   "execution_count": 75,
   "metadata": {},
   "outputs": [],
   "source": [
    "#spliting data accroding to the assignment\n",
    "X_train, X_test, y_train, y_test = train_test_split(feature, digitLable, test_size=0.1, random_state=2)"
   ]
  },
  {
   "cell_type": "code",
   "execution_count": 76,
   "metadata": {
    "collapsed": true
   },
   "outputs": [],
   "source": [
    "#initiate random forest object with given parameter\n",
    "myRandomForest = RandomForestClassifier(n_estimators = 19, bootstrap = True, random_state=2)"
   ]
  },
  {
   "cell_type": "code",
   "execution_count": 77,
   "metadata": {},
   "outputs": [
    {
     "data": {
      "text/plain": [
       "RandomForestClassifier(bootstrap=True, class_weight=None, criterion='gini',\n",
       "            max_depth=None, max_features='auto', max_leaf_nodes=None,\n",
       "            min_impurity_split=1e-07, min_samples_leaf=1,\n",
       "            min_samples_split=2, min_weight_fraction_leaf=0.0,\n",
       "            n_estimators=19, n_jobs=1, oob_score=False, random_state=2,\n",
       "            verbose=0, warm_start=False)"
      ]
     },
     "execution_count": 77,
     "metadata": {},
     "output_type": "execute_result"
    }
   ],
   "source": [
    "#train data with random forest object\n",
    "myRandomForest.fit(X_train,y_train)"
   ]
  },
  {
   "cell_type": "code",
   "execution_count": 78,
   "metadata": {
    "collapsed": true
   },
   "outputs": [],
   "source": [
    "#predict with test data\n",
    "y_predict = myRandomForest.predict(X_test)"
   ]
  },
  {
   "cell_type": "code",
   "execution_count": null,
   "metadata": {
    "collapsed": true
   },
   "outputs": [],
   "source": [
    "#check accuracy\n",
    "accuracy_log = accuracy_score(y_test,y_predict)\n",
    "print(accuracy_log)"
   ]
  }
 ],
 "metadata": {
  "kernelspec": {
   "display_name": "Python 3",
   "language": "python",
   "name": "python3"
  },
  "language_info": {
   "codemirror_mode": {
    "name": "ipython",
    "version": 3
   },
   "file_extension": ".py",
   "mimetype": "text/x-python",
   "name": "python",
   "nbconvert_exporter": "python",
   "pygments_lexer": "ipython3",
   "version": "3.6.5"
  }
 },
 "nbformat": 4,
 "nbformat_minor": 2
}
